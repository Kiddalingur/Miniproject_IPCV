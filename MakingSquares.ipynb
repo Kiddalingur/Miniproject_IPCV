{
 "cells": [
  {
   "cell_type": "code",
   "execution_count": 1,
   "id": "d4699ec4",
   "metadata": {
    "id": "d4699ec4",
    "scrolled": true
   },
   "outputs": [],
   "source": [
    "#!pip install open3d\n",
    "\n",
    "#!jt -l\n",
    "#!jt -t chesterish"
   ]
  },
  {
   "cell_type": "code",
   "execution_count": 18,
   "id": "83d7f8a5",
   "metadata": {
    "id": "83d7f8a5",
    "outputId": "e997ffee-df98-41de-e48c-0e65daab5835",
    "scrolled": true
   },
   "outputs": [],
   "source": [
    "import numpy as np\n",
    "import open3d as o3d\n",
    "import matplotlib.pyplot as plt\n",
    "import random\n",
    "import copy\n",
    "import os \n",
    "import sys\n",
    "from sklearn import linear_model\n",
    "import math\n",
    "from scipy.stats import linregress\n",
    "\n",
    "pcd = o3d.io.read_point_cloud(\"BroGang_M.ply\")\n",
    "#pcd = o3d.io.read_point_cloud(\"A314_K.ply\")"
   ]
  },
  {
   "cell_type": "code",
   "execution_count": 2,
   "id": "8b4893c6",
   "metadata": {
    "id": "8b4893c6",
    "outputId": "44f0c1ac-d2af-4314-ae6f-6b072a054381"
   },
   "outputs": [
    {
     "name": "stdout",
     "output_type": "stream",
     "text": [
      "PointCloud with 12035 points.\n"
     ]
    }
   ],
   "source": [
    "downpcd = pcd.voxel_down_sample(voxel_size = 0.2)\n",
    "print(downpcd)\n",
    "o3d.visualization.draw_geometries([downpcd])"
   ]
  },
  {
   "cell_type": "code",
   "execution_count": 19,
   "id": "e4584dc4",
   "metadata": {
    "id": "e4584dc4"
   },
   "outputs": [],
   "source": [
    "def NumpyToPCD(xyz):\n",
    "    pcd = o3d.geometry.PointCloud()\n",
    "    pcd.points = o3d.utility.Vector3dVector(xyz)\n",
    "    return pcd\n",
    "\n",
    "\n",
    "def PCDToNumpy(pcd):\n",
    "    return np.asarray(pcd.points)\n",
    "\n",
    "\n",
    "\n",
    "def DetermineSliceValues(points):\n",
    "    HighestPoint = np.amax(points[:,1])\n",
    "    LowestPoint = np.amin(points[:,1])\n",
    "    x = np.array([LowestPoint, HighestPoint])\n",
    "    TotalHeight = np.absolute(x)\n",
    "    TotalHeight = TotalHeight[0] + TotalHeight[1]\n",
    "    \n",
    "    sliceHeight = (TotalHeight / 2)\n",
    "    LowestPoint = LowestPoint + (sliceHeight + 0.5)\n",
    "    HighestPoint = HighestPoint - (sliceHeight - 0.7)\n",
    "    x = np.array([LowestPoint, HighestPoint])\n",
    "    print(x)\n",
    "    return x\n",
    "    \n",
    "def display_inlier_outlier(cloud, ind):\n",
    "    inlier_cloud = cloud.select_by_index(ind)\n",
    "    outlier_cloud = cloud.select_by_index(ind, invert=True)\n",
    "\n",
    "    #print(\"Showing outliers (red) and inliers (gray): \")\n",
    "    outlier_cloud.paint_uniform_color([1, 0, 0])\n",
    "    #inlier_cloud.paint_uniform_color([0.8, 0.8, 0.8])\n",
    "    #o3d.visualization.draw_geometries([inlier_cloud, outlier_cloud])\n",
    "    return inlier_cloud      \n",
    "    \n",
    "\n",
    "def SlicePoints(points, axis, minimum_value=0.5, maximum_value=1.5):\n",
    "    \n",
    "    new_List = []\n",
    "    for z_value in range(len(points)):\n",
    "        if points[z_value, axis] >  minimum_value and points[z_value, axis] <  maximum_value:\n",
    "            new_List.append(points[z_value])\n",
    "    arr = np.array(new_List)\n",
    "    pcd = NumpyToPCD(arr)\n",
    "    #print(\"After removal of ceiling and floor: \", pcd)\n",
    "    return pcd\n",
    "\n",
    "\n",
    "\n",
    "def outlierRemoval(points, neighbors=20, ratio=2.0):\n",
    "    cl, ind = points.remove_statistical_outlier(nb_neighbors=neighbors, std_ratio=ratio)\n",
    "    inlier_cloud = display_inlier_outlier(points, ind)\n",
    "   # print(\"After removing noise: \", inlier_cloud)\n",
    "    return inlier_cloud\n",
    "\n",
    "\n",
    "\n",
    "def collapsAxis(cloud, axis):\n",
    "    np_cloud = PCDToNumpy(cloud)\n",
    "    new_List = []\n",
    "    \n",
    "    for value in range(len(np_cloud)):\n",
    "        np_cloud[value, axis] = 0.0\n",
    "        new_List.append(np_cloud[value])\n",
    "    pcd = NumpyToPCD(np_cloud)\n",
    "    return pcd"
   ]
  },
  {
   "cell_type": "code",
   "execution_count": 20,
   "id": "ba14ca48",
   "metadata": {
    "id": "ba14ca48",
    "outputId": "ef8c61bb-c87e-4d09-8fdb-3ee53199761e"
   },
   "outputs": [
    {
     "name": "stdout",
     "output_type": "stream",
     "text": [
      "[0.50114392 0.70114392]\n"
     ]
    }
   ],
   "source": [
    "if __name__ == \"__main__\":\n",
    "    points = PCDToNumpy(downpcd)\n",
    "    MinAndMax = DetermineSliceValues(points)\n",
    "    plane_points = SlicePoints(points, 1, MinAndMax[0], MinAndMax[1])\n",
    "    plane_points2 = outlierRemoval(plane_points, neighbors=10, ratio=2.0)\n",
    "    Two_Dim_Plane = collapsAxis(plane_points2, axis=1)\n",
    "    o3d.visualization.draw_geometries([Two_Dim_Plane])"
   ]
  },
  {
   "cell_type": "code",
   "execution_count": 21,
   "id": "8e1258e6",
   "metadata": {},
   "outputs": [],
   "source": [
    "pGen = PCDToNumpy(Two_Dim_Plane)"
   ]
  },
  {
   "cell_type": "code",
   "execution_count": 22,
   "id": "904115d3",
   "metadata": {},
   "outputs": [],
   "source": [
    "def solve(bl, tr, p) :\n",
    "    \n",
    "    var = 0.3\n",
    "    \n",
    "    if (p[0] <= tr[0] + var and p[0] >= bl[0] - var and p[1] <= bl[1] + var and p[1] >= bl[1] - var\n",
    "    or p[0] <= bl[0] + var and p[0] >= bl[0] - var and p[1] <= tr[1] + var and p[1] >= bl[1] - var\n",
    "    or p[0] <= tr[0] + var and p[0] >= tr[0] - var and p[1] <= tr[1] + var and p[1] >= bl[1] - var\n",
    "    or p[0] <= tr[0] + var and p[0] >= bl[0] - var and p[1] <= tr[1] + var and p[1] >= tr[1] - var\n",
    "       ): \n",
    "#Checks the lines in the following order:\n",
    "#Bottom line, left line, right line, top line.\n",
    "        return True\n",
    "    else :\n",
    "        return False"
   ]
  },
  {
   "cell_type": "code",
   "execution_count": 23,
   "id": "85784357",
   "metadata": {},
   "outputs": [],
   "source": [
    "#Use RANSAC to find slope of best straight line\n",
    "from sklearn import linear_model\n",
    "from sklearn.linear_model import LinearRegression, RANSACRegressor\n",
    "\n",
    "def FindSlope(X, y):\n",
    "    ransac = RANSACRegressor(base_estimator=LinearRegression(),\n",
    "                                 min_samples=2, max_trials=100,\n",
    "                                 loss='absolute_loss', random_state=0,\n",
    "                                 residual_threshold=0.15)\n",
    "    ransac.fit(X, y)\n",
    "    inlier_mask = ransac.inlier_mask_\n",
    "    outlier_mask = np.logical_not(inlier_mask)\n",
    "\n",
    "    line_X = np.arange(X.min(), X.max())\n",
    "    line_y_ransac = ransac.predict(line_X.reshape((len(line_X), 1)))\n",
    "    \n",
    "    plt.figure(figsize=(20, 15))\n",
    "    \n",
    "    plt.scatter(X[inlier_mask], y[inlier_mask],\n",
    "            c='steelblue', edgecolor='white',\n",
    "            marker='o', label='Inliers')\n",
    "    \n",
    "    plt.scatter(X[outlier_mask], y[outlier_mask],\n",
    "             c='limegreen', edgecolor='white',\n",
    "             marker='s', label='Outliers')\n",
    "    \n",
    "    plt.plot(line_X, line_y_ransac, color='black')\n",
    "    \n",
    "    slope, intercept, r_value, p_value, std_err = linregress(line_X, line_y_ransac)\n",
    "    return slope "
   ]
  },
  {
   "cell_type": "code",
   "execution_count": 24,
   "id": "5b8447be",
   "metadata": {
    "scrolled": false
   },
   "outputs": [
    {
     "name": "stdout",
     "output_type": "stream",
     "text": [
      "Slope of line:  -0.051442889857075236\n",
      "-0.051397582785737805\n",
      "Angle:  1.6213975827857379\n"
     ]
    },
    {
     "data": {
      "image/png": "[encoded data removed]",
      "text/plain": [
       "<Figure size 1440x1080 with 1 Axes>"
      ]
     },
     "metadata": {
      "needs_background": "light"
     },
     "output_type": "display_data"
    }
   ],
   "source": [
    "# Take inspiration from above to broaden use cases, but for now not necessary. Use this to find the angle to know what to rotate the points with\n",
    "def findAng(theta):\n",
    "    if theta > 1.57:\n",
    "        theta = abs(1.57 - theta)\n",
    "    else:\n",
    "        theta = abs(theta - 1.57)\n",
    "    return theta\n",
    "\n",
    "x = pts[:,0].reshape(-1, 1)\n",
    "y = pts[:,1]\n",
    "\n",
    "slope = FindSlope(x, y)\n",
    "print('Slope of line: ', slope)\n",
    "angle = np.arctan(slope)\n",
    "print(angle)\n",
    "angle = findAng(angle)\n",
    "print('Angle: ', angle)\n",
    "\n"
   ]
  },
  {
   "cell_type": "code",
   "execution_count": 25,
   "id": "812b15dd",
   "metadata": {},
   "outputs": [],
   "source": [
    "\n",
    "def rotate(origin, point, angle):\n",
    "    origin_x, origin_y = origin \n",
    "    \n",
    "    px, py = point\n",
    "    \n",
    "    qx = origin_x + math.cos(angle) * (px - origin_x) - math.sin(angle) * (py - origin_y)\n",
    "    qy = origin_y + math.sin(angle) * (px - origin_x) + math.cos(angle) * (py - origin_y)\n",
    "\n",
    "    return qx, qy\n",
    "\n",
    "\n",
    "def rotatingPoints(points, angle):\n",
    "    origin = (5, 5)\n",
    "    rotPts = []\n",
    "    for point in points:\n",
    "        newPts = rotate(origin, point, angle)\n",
    "        rotPts.append(newPts)\n",
    "    \n",
    "    rotPts = np.array(rotPts)\n",
    "    return rotPts"
   ]
  },
  {
   "cell_type": "code",
   "execution_count": 26,
   "id": "1c1e0d5e",
   "metadata": {},
   "outputs": [
    {
     "data": {
      "image/png": "[encoded data removed]",
      "text/plain": [
       "<Figure size 432x288 with 1 Axes>"
      ]
     },
     "metadata": {
      "needs_background": "light"
     },
     "output_type": "display_data"
    }
   ],
   "source": [
    "pts = np.delete(pGen, 1, 1)\n",
    "rotPts = rotatingPoints(pts, angle)\n",
    "x = rotPts[:,0]\n",
    "y = rotPts[:,1]\n",
    "\n",
    "d = pts[:,0]\n",
    "j = pts[:,1]\n",
    "\n",
    "plt.scatter(d, j)\n",
    "plt.scatter(x, y)\n",
    "plt.show()"
   ]
  },
  {
   "cell_type": "code",
   "execution_count": 18,
   "id": "5776019b",
   "metadata": {
    "id": "5776019b",
    "outputId": "b7576fd9-4cfd-48bd-98ed-e8eed7c77005",
    "scrolled": true
   },
   "outputs": [
    {
     "name": "stdout",
     "output_type": "stream",
     "text": [
      "Current inliers:  21\n",
      "Current inliers:  21\n",
      "Current inliers:  22\n",
      "Current inliers:  22\n",
      "Current inliers:  23\n",
      "Current inliers:  23\n",
      "Current inliers:  24\n",
      "Current inliers:  24\n",
      "Current inliers:  25\n",
      "Current inliers:  25\n",
      "Current inliers:  25\n",
      "Current inliers:  25\n",
      "Current inliers:  25\n",
      "Current inliers:  25\n",
      "Current inliers:  25\n",
      "Current inliers:  25\n",
      "Current inliers:  26\n",
      "Current inliers:  26\n",
      "Current inliers:  27\n",
      "Current inliers:  27\n",
      "Current inliers:  28\n",
      "Current inliers:  28\n",
      "Current inliers:  29\n",
      "Current inliers:  29\n",
      "Current inliers:  30\n",
      "Current inliers:  31\n",
      "Current inliers:  33\n",
      "Current inliers:  33\n",
      "Current inliers:  34\n",
      "Current inliers:  34\n",
      "Current inliers:  35\n",
      "Current inliers:  35\n",
      "Current inliers:  36\n",
      "Current inliers:  36\n",
      "Current inliers:  37\n",
      "Current inliers:  37\n",
      "Current inliers:  37\n",
      "Current inliers:  37\n",
      "Current inliers:  38\n",
      "Current inliers:  38\n",
      "Current inliers:  39\n",
      "Current inliers:  39\n",
      "Current inliers:  40\n",
      "Current inliers:  40\n",
      "Current inliers:  41\n",
      "Current inliers:  41\n",
      "Current inliers:  43\n",
      "Current inliers:  43\n",
      "Current inliers:  44\n",
      "Current inliers:  44\n",
      "Current inliers:  45\n",
      "Current inliers:  45\n",
      "Current inliers:  50\n",
      "Current inliers:  51\n",
      "Current inliers:  57\n",
      "Current inliers:  57\n",
      "Current inliers:  57\n",
      "Current inliers:  57\n",
      "Current inliers:  54\n",
      "Current inliers:  54\n",
      "Current inliers:  52\n",
      "Current inliers:  51 \n",
      "\n",
      "largest 51\n",
      "total points 371\n",
      "total inliers 51\n"
     ]
    },
    {
     "ename": "NameError",
     "evalue": "name 'storeLargest' is not defined",
     "output_type": "error",
     "traceback": [
      "\u001b[1;31m---------------------------------------------------------------------------\u001b[0m",
      "\u001b[1;31mNameError\u001b[0m                                 Traceback (most recent call last)",
      "\u001b[1;32m<ipython-input-18-0c450a01276f>\u001b[0m in \u001b[0;36m<module>\u001b[1;34m\u001b[0m\n\u001b[0;32m    101\u001b[0m \u001b[1;33m\u001b[0m\u001b[0m\n\u001b[0;32m    102\u001b[0m \u001b[1;33m\u001b[0m\u001b[0m\n\u001b[1;32m--> 103\u001b[1;33m \u001b[0mstartPos\u001b[0m\u001b[1;33m,\u001b[0m \u001b[0mendPos\u001b[0m \u001b[1;33m=\u001b[0m \u001b[0mboxGen\u001b[0m\u001b[1;33m(\u001b[0m\u001b[0mrotPts\u001b[0m\u001b[1;33m)\u001b[0m \u001b[1;31m### Kommenterer det her ud ved første start og så kør celle 8 igen med angle, så kan den her køre\u001b[0m\u001b[1;33m\u001b[0m\u001b[1;33m\u001b[0m\u001b[0m\n\u001b[0m\u001b[0;32m    104\u001b[0m \u001b[1;33m\u001b[0m\u001b[0m\n\u001b[0;32m    105\u001b[0m \u001b[1;31m#print(startPos, endPos) ### Samme her\u001b[0m\u001b[1;33m\u001b[0m\u001b[1;33m\u001b[0m\u001b[1;33m\u001b[0m\u001b[0m\n",
      "\u001b[1;32m<ipython-input-18-0c450a01276f>\u001b[0m in \u001b[0;36mboxGen\u001b[1;34m(points)\u001b[0m\n\u001b[0;32m     77\u001b[0m             \u001b[0mprint\u001b[0m\u001b[1;33m(\u001b[0m\u001b[1;34m\"total points\"\u001b[0m\u001b[1;33m,\u001b[0m \u001b[0mlen\u001b[0m\u001b[1;33m(\u001b[0m\u001b[0mpoints\u001b[0m\u001b[1;33m)\u001b[0m\u001b[1;33m)\u001b[0m\u001b[1;33m\u001b[0m\u001b[1;33m\u001b[0m\u001b[0m\n\u001b[0;32m     78\u001b[0m             \u001b[0mprint\u001b[0m\u001b[1;33m(\u001b[0m\u001b[1;34m\"total inliers\"\u001b[0m\u001b[1;33m,\u001b[0m \u001b[0mlen\u001b[0m\u001b[1;33m(\u001b[0m\u001b[0minlierPoints\u001b[0m\u001b[1;33m)\u001b[0m\u001b[1;33m)\u001b[0m\u001b[1;33m\u001b[0m\u001b[1;33m\u001b[0m\u001b[0m\n\u001b[1;32m---> 79\u001b[1;33m             \u001b[0mstoreLargest\u001b[0m\u001b[1;33m(\u001b[0m\u001b[0mlargest\u001b[0m\u001b[1;33m,\u001b[0m \u001b[0mcoords\u001b[0m\u001b[1;33m,\u001b[0m \u001b[0minlierPoints\u001b[0m\u001b[1;33m)\u001b[0m\u001b[1;33m\u001b[0m\u001b[1;33m\u001b[0m\u001b[0m\n\u001b[0m\u001b[0;32m     80\u001b[0m \u001b[1;33m\u001b[0m\u001b[0m\n\u001b[0;32m     81\u001b[0m             \u001b[1;32mif\u001b[0m \u001b[0mlen\u001b[0m\u001b[1;33m(\u001b[0m\u001b[0minlierPoints\u001b[0m\u001b[1;33m)\u001b[0m \u001b[1;33m==\u001b[0m \u001b[0mlargest\u001b[0m\u001b[1;33m:\u001b[0m\u001b[1;33m\u001b[0m\u001b[1;33m\u001b[0m\u001b[0m\n",
      "\u001b[1;31mNameError\u001b[0m: name 'storeLargest' is not defined"
     ]
    }
   ],
   "source": [
    "def boxGen(points):  \n",
    "    minPx = min(points[:,0])\n",
    "    minPy = min(points[:,1])\n",
    "    maxPx = max(points[:,0])\n",
    "    maxPy = max(points[:,1])\n",
    "    \n",
    "    startPoint = [minPx, minPy]\n",
    "    MaxSize = [maxPx, maxPy]\n",
    "    #Find a starting point and opposite corner point starting with a minimum 1 meter square\n",
    "    oppPoint = [startPoint[0]+1, startPoint[1]+1]\n",
    "    \n",
    "    maxList = []\n",
    "    \n",
    "    coords = [0, 0]\n",
    "    preVal = []\n",
    "    Inliers = 0\n",
    "    Outliers = 0\n",
    "    largest = 0\n",
    "    outPoints = []\n",
    "    outlierPoints = []\n",
    "    inlierPoints = []\n",
    "    \n",
    "    inPoints = []\n",
    "    \n",
    "    while oppPoint[0] <= MaxSize[0]:\n",
    "        \n",
    "        \n",
    "        for point in points:\n",
    "            checkPoint = solve(startPoint, oppPoint, point)\n",
    "            if checkPoint == True:\n",
    "                Inliers += 1    \n",
    "                inlierPoints.append(point)\n",
    "            else:\n",
    "                Outliers += 1\n",
    "                outlierPoints.append(point)\n",
    "        \n",
    "        \n",
    "        preVal.append(Inliers)\n",
    "        oppPoint[0] += 0.1 \n",
    "\n",
    "        print(\"Current inliers: \", Inliers)\n",
    "        currV = Inliers\n",
    "        Inliers = 0\n",
    "        inlierPoints.clear()\n",
    "        outlierPoints.clear()\n",
    "        \n",
    "    #Move the y-axis a little before starting the iteration there in order to avoid getting the same value for the start of the next one\n",
    "    oppPoint[1] += 0.1\n",
    "    \n",
    "    preVal = []\n",
    "    while oppPoint[1] <= MaxSize[1]:\n",
    "        for point in points:\n",
    "            checkPoint = solve(startPoint, oppPoint, point)\n",
    "            if checkPoint == True:\n",
    "                Inliers += 1\n",
    "                inlierPoints.append(point)\n",
    "            else:\n",
    "                Outliers += 1\n",
    "                outlierPoints.append(point)\n",
    "        \n",
    "        preVal.append(Inliers)\n",
    "        maxList.append(preVal)\n",
    "       \n",
    "        oppPoint[1] += 0.1 \n",
    "        \n",
    "        print(\"Current inliers: \", Inliers, '\\n')\n",
    "        currV = Inliers\n",
    "        \n",
    "        max_value = max(maxList)\n",
    "        max_index = maxList.index(max_value)\n",
    "        \n",
    "        if max(maxList[max_index]) > largest:\n",
    "            largest = max(maxList[max_index])\n",
    "            print(\"largest\", largest)\n",
    "            coords[0] = oppPoint[0]\n",
    "            coords[1] = oppPoint[1]\n",
    "            print(\"total points\", len(points))\n",
    "            print(\"total inliers\", len(inlierPoints))\n",
    "            storeLargest(largest, coords, inlierPoints)\n",
    "            \n",
    "            if len(inlierPoints) == largest:\n",
    "                inPoints.append(inlierPoints)\n",
    "                print(inPoints)\n",
    "                \n",
    "                #inPoints = inlierPoints\n",
    "                print(\"test len\", len(inPoints))\n",
    "                \n",
    "   \n",
    "\n",
    "\n",
    "            \n",
    "        Inliers = 0\n",
    "        \n",
    "        inlierPoints.clear()\n",
    "        outlierPoints.clear()\n",
    "        #outlierPoints.clear()\n",
    "        \n",
    "    return startPoint, coords\n",
    "    \n",
    "#print(largest)\n",
    "\n",
    "\n",
    "startPos, endPos = boxGen(rotPts) ### Kommenterer det her ud ved første start og så kør celle 8 igen med angle, så kan den her køre\n",
    "\n",
    "#print(startPos, endPos) ### Samme her "
   ]
  },
  {
   "cell_type": "code",
   "execution_count": 17,
   "id": "c3dbef96",
   "metadata": {},
   "outputs": [
    {
     "ename": "NameError",
     "evalue": "name 'startPos' is not defined",
     "output_type": "error",
     "traceback": [
      "\u001b[1;31m---------------------------------------------------------------------------\u001b[0m",
      "\u001b[1;31mNameError\u001b[0m                                 Traceback (most recent call last)",
      "\u001b[1;32m<ipython-input-17-c040fd870300>\u001b[0m in \u001b[0;36m<module>\u001b[1;34m\u001b[0m\n\u001b[0;32m     10\u001b[0m     \u001b[1;32mreturn\u001b[0m \u001b[0mnp\u001b[0m\u001b[1;33m.\u001b[0m\u001b[0masarray\u001b[0m\u001b[1;33m(\u001b[0m\u001b[0mnewPointCloud\u001b[0m\u001b[1;33m)\u001b[0m\u001b[1;33m\u001b[0m\u001b[1;33m\u001b[0m\u001b[0m\n\u001b[0;32m     11\u001b[0m \u001b[1;33m\u001b[0m\u001b[0m\n\u001b[1;32m---> 12\u001b[1;33m \u001b[0mnewPointCloud\u001b[0m \u001b[1;33m=\u001b[0m \u001b[0mremoveInliers\u001b[0m\u001b[1;33m(\u001b[0m\u001b[0mstartPos\u001b[0m\u001b[1;33m,\u001b[0m \u001b[0mendPos\u001b[0m\u001b[1;33m,\u001b[0m \u001b[0mrotPts\u001b[0m\u001b[1;33m)\u001b[0m\u001b[1;33m\u001b[0m\u001b[1;33m\u001b[0m\u001b[0m\n\u001b[0m\u001b[0;32m     13\u001b[0m \u001b[1;33m\u001b[0m\u001b[0m\n\u001b[0;32m     14\u001b[0m \u001b[0md\u001b[0m \u001b[1;33m=\u001b[0m \u001b[0mnewPointCloud\u001b[0m\u001b[1;33m[\u001b[0m\u001b[1;33m:\u001b[0m\u001b[1;33m,\u001b[0m\u001b[1;36m0\u001b[0m\u001b[1;33m]\u001b[0m\u001b[1;33m\u001b[0m\u001b[1;33m\u001b[0m\u001b[0m\n",
      "\u001b[1;31mNameError\u001b[0m: name 'startPos' is not defined"
     ]
    }
   ],
   "source": [
    "def removeInliers(startPos, endPos, rotPts):\n",
    "\n",
    "    newPointCloud = []\n",
    "    \n",
    "    for point in rotPts:\n",
    "        checkPoint = solve(startPos, endPos, point)   \n",
    "        if checkPoint == False:\n",
    "            newPointCloud.append(point)\n",
    "        \n",
    "    return np.asarray(newPointCloud)\n",
    "                \n",
    "newPointCloud = removeInliers(startPos, endPos, rotPts)\n",
    "\n",
    "d = newPointCloud[:,0]\n",
    "j = newPointCloud[:,1]\n",
    "plt.scatter(d,j)\n"
   ]
  },
  {
   "cell_type": "code",
   "execution_count": null,
   "id": "f9241a03",
   "metadata": {},
   "outputs": [],
   "source": [
    "from matplotlib.pyplot import figure\n",
    "def DrawFloorPlan(x1, y1, x2, y2):\n",
    "    \n",
    "    plt.axes()\n",
    "    rectangle = plt.Rectangle((x1, y1), abs(x1 - x2), abs(y1 - y2), fc='none',ec=\"red\")\n",
    "    plt.gca().add_patch(rectangle)\n",
    "    x = rotPts[:,0]\n",
    "    y = rotPts[:,1]\n",
    "    plt.scatter(x,y)\n",
    "    #plt.axis('scaled')\n",
    "    plt.show()"
   ]
  },
  {
   "cell_type": "code",
   "execution_count": null,
   "id": "bd44ca56",
   "metadata": {
    "scrolled": false
   },
   "outputs": [],
   "source": [
    "DrawFloorPlan(startPos[0], startPos[1], endPos[0], endPos[1])"
   ]
  },
  {
   "cell_type": "code",
   "execution_count": null,
   "id": "160df59e",
   "metadata": {},
   "outputs": [],
   "source": [
    "def storeLargest(largest, coords, inlierPoints):  \n",
    "    print(\"\")\n",
    "    print(\"Now in storeLargest function\")\n",
    "    print(\"Largest\", largest)\n",
    "    print(\"coords\", coords)\n",
    "    #print(\"Inlier points\", len(inlierPoints) , '\\n')\n",
    "        \n",
    "\n",
    "    return largest, coords, inlierPoints"
   ]
  },
  {
   "cell_type": "code",
   "execution_count": null,
   "id": "7427390d",
   "metadata": {},
   "outputs": [],
   "source": [
    "x = np.arange(10)\n",
    "y = np.random.rand(10)\n",
    "\n",
    "plt.xticks(range(min(valueX), max(valueX)+1))\n",
    "\n",
    "plt.figure(figsize=(10, 10), dpi=100)\n",
    "plt.scatter(x, y)"
   ]
  }
 ],
 "metadata": {
  "colab": {
   "name": "rect.ipynb",
   "provenance": []
  },
  "kernelspec": {
   "display_name": "Python 3",
   "language": "python",
   "name": "python3"
  },
  "language_info": {
   "codemirror_mode": {
    "name": "ipython",
    "version": 3
   },
   "file_extension": ".py",
   "mimetype": "text/x-python",
   "name": "python",
   "nbconvert_exporter": "python",
   "pygments_lexer": "ipython3",
   "version": "3.8.8"
  }
 },
 "nbformat": 4,
 "nbformat_minor": 5
}
